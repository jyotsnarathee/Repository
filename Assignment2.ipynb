{
 "cells": [
  {
   "cell_type": "code",
   "execution_count": 1,
   "metadata": {},
   "outputs": [
    {
     "name": "stdout",
     "output_type": "stream",
     "text": [
      "Addition of list elements: 10\n",
      "Subtraction of list elements: -8\n",
      "Multiplication of list elements: 24\n"
     ]
    }
   ],
   "source": [
    "lis=[1,2,3,4]\n",
    "def mapReduce(anyfunc, seq):\n",
    "    result = seq[0]\n",
    "    for item in seq[1:]:\n",
    "        result = anyfunc(result, item)\n",
    "    return result\n",
    "\n",
    "def sum(x,y):\n",
    "    return x + y\n",
    "def diff(x,y):\n",
    "    return  x - y\n",
    "def  multiply(x,y):\n",
    "    return x * y\n",
    "\n",
    "print(\"Addition of list elements: \" + str(mapReduce(sum, lis)))\n",
    "print(\"Subtraction of list elements: \" + str(mapReduce(diff, lis)))\n",
    "print(\"Multiplication of list elements: \" + str(mapReduce(multiply, lis)))\n"
   ]
  },
  {
   "cell_type": "code",
   "execution_count": 2,
   "metadata": {},
   "outputs": [
    {
     "name": "stdout",
     "output_type": "stream",
     "text": [
      "Negative elements: [1, 4, 5]\n",
      "Positive elements: [-1, -3, -7]\n"
     ]
    }
   ],
   "source": [
    "lis=[1,4,-1,-3,5,-7]\n",
    "def myFilter(anyfunc, seq):\n",
    "    result =[]\n",
    "    for item in seq:\n",
    "        if anyfunc(item):\n",
    "            result.append(item)\n",
    "    return result\n",
    "\n",
    "def isNegative(itemA):\n",
    "    if (itemA <= 0): \n",
    "      return True \n",
    "    else: \n",
    "      return False\n",
    "\n",
    "def isPositive(itemA):\n",
    "    if (itemA <= 0): \n",
    "      return False \n",
    "    else: \n",
    "      return True\n",
    "\n",
    "print(\"Negative elements: \" + str(myFilter(isPositive, lis)))\n",
    "print(\"Positive elements: \" + str(myFilter(isNegative, lis)))"
   ]
  },
  {
   "cell_type": "code",
   "execution_count": 3,
   "metadata": {},
   "outputs": [
    {
     "name": "stdout",
     "output_type": "stream",
     "text": [
      "['A', 'C', 'A', 'D', 'G', 'I', 'L', 'D']\n",
      "['x', 'xx', 'xxx', 'xxxx', 'y', 'yy', 'yyy', 'yyyy', 'z', 'zz', 'zzz', 'zzzz']\n",
      "['x', 'y', 'z', 'xx', 'yy', 'zz', 'xxx', 'yyy', 'zzz', 'xxxx', 'yyyy', 'zzzz']\n",
      "[[2], [3], [4], [3], [4], [5], [4], [5], [6]]\n",
      "[[2, 3, 4, 5], [3, 4, 5, 6], [4, 5, 6, 7], [5, 6, 7, 8]]\n",
      "[(1, 1), (2, 1), (3, 1), (1, 2), (2, 2), (3, 2), (1, 3), (2, 3), (3, 3)]\n"
     ]
    }
   ],
   "source": [
    "word=\"ACADGILD\"\n",
    "wordList = [character for character in word]\n",
    "print(str(wordList))\n",
    "list1 =['x','y','z']\n",
    "comprehensiveList1 = [item*num for item in list1 for num in range(1,5)  ]\n",
    "print(str(comprehensiveList1))\n",
    "comprehensiveList2= [item*num for num in range(1,5) for item in list1 ]\n",
    "print(str(comprehensiveList2))\n",
    "numList=[2,3,4]\n",
    "comprehensiveList3 = [[item+num] for item in numList for num in range(0,3)]\n",
    "print(str(comprehensiveList3))\n",
    "numList2=[2,3,4,5]\n",
    "comprehensiveList4 =[[item+num for item in numList2 ]for num in range(0,4)]\n",
    "print(str(comprehensiveList4))\n",
    "numList3=[1,2,3]\n",
    "comprehensiveList5 =[(b,a) for a in numList3 for b in numList3]\n",
    "print(str(comprehensiveList5))"
   ]
  },
  {
   "cell_type": "code",
   "execution_count": 4,
   "metadata": {},
   "outputs": [
    {
     "name": "stdout",
     "output_type": "stream",
     "text": [
      "dfgtre\n"
     ]
    }
   ],
   "source": [
    "wordList = ['abc','dfgs','ad','dfgtre','d','sdfgh']\n",
    "def longestWord(wordList):\n",
    "    result = wordList[0]\n",
    "    length1 = len(result)\n",
    "    for item in wordList[1:]:\n",
    "        length2 = len(item)\n",
    "        if length2>length1:\n",
    "            length1=length2\n",
    "            result=item\n",
    "    return result\n",
    "print(str(longestWord(wordList)))"
   ]
  },
  {
   "cell_type": "code",
   "execution_count": 5,
   "metadata": {},
   "outputs": [
    {
     "name": "stdout",
     "output_type": "stream",
     "text": [
      "Area of Traiangle :  2.9047375096555625\n"
     ]
    }
   ],
   "source": [
    "class sidesOfTriangle:\n",
    "     def __init__(self, length,width,height):\n",
    "               self.l1=length\n",
    "               self.w1=width\n",
    "               self.h1=height\n",
    "class areaOfTriangle(sidesOfTriangle):\n",
    "    def __init__(self,a,b,c):\n",
    "               sidesOfTriangle.__init__(self,a,b,c)\n",
    "    def area(self):\n",
    "        s= (self.l1+self.w1+self.h1)/2\n",
    "        area =  (s*(s-self.l1)*(s-self.w1)*(s-self.h1)) ** 0.5 \n",
    "        return area\n",
    "\n",
    "y=areaOfTriangle(3,2,4)\n",
    "print(\"Area of Traiangle : \",  y.area())"
   ]
  },
  {
   "cell_type": "code",
   "execution_count": 7,
   "metadata": {},
   "outputs": [
    {
     "name": "stdout",
     "output_type": "stream",
     "text": [
      "['quick', 'brown', 'jumps']\n"
     ]
    }
   ],
   "source": [
    "def filter_long_words(n, str):  \n",
    "    word_len = []  \n",
    "    txtofString = str.split(\" \")  \n",
    "    for x in txtofString:  \n",
    "        if len(x) > n:  \n",
    "            word_len.append(x)  \n",
    "    return word_len   \n",
    "print(filter_long_words(4, \"The quick brown fox jumps over the lazy dog\"))  "
   ]
  },
  {
   "cell_type": "code",
   "execution_count": 8,
   "metadata": {},
   "outputs": [
    {
     "name": "stdout",
     "output_type": "stream",
     "text": [
      "[1, 2, 5, 2, 9]\n"
     ]
    }
   ],
   "source": [
    "wordsList=[\"I\",\"am\",\"doing\",\"my\",\"exercises\"]\n",
    "def map_lengths_for(wordsList):\n",
    "    lengths = []\n",
    "    for word in wordsList:\n",
    "        lengths.append(len(word))\n",
    "    return lengths\n",
    "print(map_lengths_for(wordsList))"
   ]
  },
  {
   "cell_type": "code",
   "execution_count": 10,
   "metadata": {},
   "outputs": [
    {
     "name": "stdout",
     "output_type": "stream",
     "text": [
      "True\n",
      "False\n",
      "False\n",
      "True\n",
      "True\n"
     ]
    }
   ],
   "source": [
    "def is_vowel(char):\n",
    "    vowels = ('a', 'e', 'i', 'o', 'u','A', 'E', 'I', 'O', 'U')\n",
    "    if char not in vowels:\n",
    "        return False\n",
    "    else:\n",
    "        return True\n",
    "print(is_vowel(\"a\"))\n",
    "print(is_vowel(\"B\"))\n",
    "print(is_vowel(\"c\"))\n",
    "print(is_vowel(\"E\"))\n",
    "print(is_vowel(\"I\"))"
   ]
  },
  {
   "cell_type": "code",
   "execution_count": null,
   "metadata": {},
   "outputs": [],
   "source": []
  }
 ],
 "metadata": {
  "kernelspec": {
   "display_name": "Python 3",
   "language": "python",
   "name": "python3"
  },
  "language_info": {
   "codemirror_mode": {
    "name": "ipython",
    "version": 3
   },
   "file_extension": ".py",
   "mimetype": "text/x-python",
   "name": "python",
   "nbconvert_exporter": "python",
   "pygments_lexer": "ipython3",
   "version": "3.7.3"
  }
 },
 "nbformat": 4,
 "nbformat_minor": 4
}
